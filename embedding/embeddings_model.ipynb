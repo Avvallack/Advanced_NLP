{
 "cells": [
  {
   "cell_type": "code",
   "execution_count": 1,
   "metadata": {},
   "outputs": [],
   "source": [
    "from data_load import DATA_FRAME\n",
    "import re"
   ]
  },
  {
   "cell_type": "code",
   "execution_count": 2,
   "metadata": {
    "pycharm": {
     "name": "#%%\n"
    }
   },
   "outputs": [
    {
     "data": {
      "text/html": [
       "<div>\n",
       "<style scoped>\n",
       "    .dataframe tbody tr th:only-of-type {\n",
       "        vertical-align: middle;\n",
       "    }\n",
       "\n",
       "    .dataframe tbody tr th {\n",
       "        vertical-align: top;\n",
       "    }\n",
       "\n",
       "    .dataframe thead th {\n",
       "        text-align: right;\n",
       "    }\n",
       "</style>\n",
       "<table border=\"1\" class=\"dataframe\">\n",
       "  <thead>\n",
       "    <tr style=\"text-align: right;\">\n",
       "      <th></th>\n",
       "      <th>Unnamed: 0</th>\n",
       "      <th>clean_tags</th>\n",
       "      <th>clean_title</th>\n",
       "    </tr>\n",
       "  </thead>\n",
       "  <tbody>\n",
       "    <tr>\n",
       "      <th>0</th>\n",
       "      <td>0</td>\n",
       "      <td>[]</td>\n",
       "      <td>эффект капельного преобразования в css</td>\n",
       "    </tr>\n",
       "    <tr>\n",
       "      <th>1</th>\n",
       "      <td>1</td>\n",
       "      <td>[]</td>\n",
       "      <td>липкий эффект</td>\n",
       "    </tr>\n",
       "    <tr>\n",
       "      <th>2</th>\n",
       "      <td>2</td>\n",
       "      <td>[ruby, ruby on rails, перевод]</td>\n",
       "      <td>10 ошибок в ruby  ruby on rails которые легко ...</td>\n",
       "    </tr>\n",
       "    <tr>\n",
       "      <th>3</th>\n",
       "      <td>3</td>\n",
       "      <td>[asp_dot_net 5, angularjs, quest]</td>\n",
       "      <td>пишем с нуля квест на aspnet 5 vnext и angularjs</td>\n",
       "    </tr>\n",
       "    <tr>\n",
       "      <th>4</th>\n",
       "      <td>4</td>\n",
       "      <td>[тестирование мобильных приложений, mobile dev...</td>\n",
       "      <td>автоматизация процесса разработки под android ...</td>\n",
       "    </tr>\n",
       "  </tbody>\n",
       "</table>\n",
       "</div>"
      ],
      "text/plain": [
       "   Unnamed: 0                                         clean_tags  \\\n",
       "0           0                                                 []   \n",
       "1           1                                                 []   \n",
       "2           2                     [ruby, ruby on rails, перевод]   \n",
       "3           3                  [asp_dot_net 5, angularjs, quest]   \n",
       "4           4  [тестирование мобильных приложений, mobile dev...   \n",
       "\n",
       "                                         clean_title  \n",
       "0             эффект капельного преобразования в css  \n",
       "1                                      липкий эффект  \n",
       "2  10 ошибок в ruby  ruby on rails которые легко ...  \n",
       "3   пишем с нуля квест на aspnet 5 vnext и angularjs  \n",
       "4  автоматизация процесса разработки под android ...  "
      ]
     },
     "execution_count": 2,
     "metadata": {},
     "output_type": "execute_result"
    }
   ],
   "source": [
    "DATA_FRAME.head()"
   ]
  },
  {
   "cell_type": "code",
   "execution_count": 3,
   "metadata": {},
   "outputs": [],
   "source": [
    "from data_preparation import clean_title"
   ]
  },
  {
   "cell_type": "code",
   "execution_count": 4,
   "metadata": {},
   "outputs": [],
   "source": [
    "cleaned_titles = DATA_FRAME['clean_title'].apply(clean_title)"
   ]
  },
  {
   "cell_type": "code",
   "execution_count": 5,
   "metadata": {},
   "outputs": [
    {
     "data": {
      "text/plain": [
       "0         [эффект, капельного, преобразования, в, css]\n",
       "1                                     [липкий, эффект]\n",
       "2    [10, ошибок, в, ruby, ruby, on, rails, которые...\n",
       "3    [пишем, с, нуля, квест, на, aspnet, 5, vnext, ...\n",
       "4    [автоматизация, процесса, разработки, под, and...\n",
       "5        [перестаем, пользоваться, паролями, в, plesk]\n",
       "6    [избавляемся, от, javascript, в, социальных, к...\n",
       "7    [ограничение, количества, попыток, ввода, паро...\n",
       "8     [git, game, или, в, поисках, линуса, торвальдса]\n",
       "9    [экспорт, избранного, на, хабре, в, pdf, верси...\n",
       "Name: clean_title, dtype: object"
      ]
     },
     "execution_count": 5,
     "metadata": {},
     "output_type": "execute_result"
    }
   ],
   "source": [
    "cleaned_titles[:10]"
   ]
  },
  {
   "cell_type": "code",
   "execution_count": null,
   "metadata": {},
   "outputs": [],
   "source": []
  }
 ],
 "metadata": {
  "kernelspec": {
   "display_name": "Python 3",
   "language": "python",
   "name": "python3"
  },
  "language_info": {
   "codemirror_mode": {
    "name": "ipython",
    "version": 3
   },
   "file_extension": ".py",
   "mimetype": "text/x-python",
   "name": "python",
   "nbconvert_exporter": "python",
   "pygments_lexer": "ipython3",
   "version": "3.8.2"
  }
 },
 "nbformat": 4,
 "nbformat_minor": 1
}
