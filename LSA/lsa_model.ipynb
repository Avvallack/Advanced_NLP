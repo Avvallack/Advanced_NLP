{
 "cells": [
  {
   "cell_type": "code",
   "execution_count": 1,
   "metadata": {},
   "outputs": [],
   "source": [
    "from data_load import data, target\n",
    "from lsa import *\n",
    "from metrics import mean_precision_at_k"
   ]
  },
  {
   "cell_type": "markdown",
   "metadata": {},
   "source": [
    "# Baseline processing"
   ]
  },
  {
   "cell_type": "code",
   "execution_count": 2,
   "metadata": {},
   "outputs": [],
   "source": [
    "tokenized_corpus = tokenizer(data)"
   ]
  },
  {
   "cell_type": "code",
   "execution_count": 3,
   "metadata": {},
   "outputs": [],
   "source": [
    "cleaned_corpus = clean_corpus(tokenized_corpus)"
   ]
  },
  {
   "cell_type": "code",
   "execution_count": 4,
   "metadata": {},
   "outputs": [],
   "source": [
    "finalized_corpus, vocab = create_dtm(cleaned_corpus)"
   ]
  },
  {
   "cell_type": "code",
   "execution_count": 5,
   "metadata": {},
   "outputs": [],
   "source": [
    "vectorized_dtm = tf_idf_transformation(finalized_corpus)"
   ]
  },
  {
   "cell_type": "code",
   "execution_count": 6,
   "metadata": {},
   "outputs": [],
   "source": [
    "decomposed = lsa(vectorized_dtm)"
   ]
  },
  {
   "cell_type": "code",
   "execution_count": 7,
   "metadata": {},
   "outputs": [],
   "source": [
    "similar_docs = most_similar(decomposed, target)"
   ]
  },
  {
   "cell_type": "code",
   "execution_count": 8,
   "metadata": {},
   "outputs": [
    {
     "name": "stdout",
     "output_type": "stream",
     "text": [
      "Mean precision@10: 0.628\n"
     ]
    }
   ],
   "source": [
    "print(\"Mean precision@10: {:.3f}\".format(mean_precision_at_k(target, similar_docs)))"
   ]
  },
  {
   "cell_type": "markdown",
   "metadata": {},
   "source": [
    "# Num components and singular values tuning"
   ]
  },
  {
   "cell_type": "code",
   "execution_count": 9,
   "metadata": {},
   "outputs": [
    {
     "name": "stdout",
     "output_type": "stream",
     "text": [
      "Mean precision@10 with 10 components : 0.675\n",
      "Mean precision@10 with 100 components : 0.619\n",
      "Mean precision@10 with 1000 components : 0.623\n",
      "Mean precision@10 with 300 components : 0.628\n",
      "Mean precision@10 with 700 components : 0.582\n"
     ]
    }
   ],
   "source": [
    "components = [10, 100, 1000, 300, 700]\n",
    "\n",
    "for n_comp in components:\n",
    "    decomposed_vectors = lsa(vectorized_dtm, components=n_comp)\n",
    "    similar_docs = most_similar(decomposed_vectors, target)\n",
    "    print(\"Mean precision@10 with {} components : {:.3f}\".format(n_comp, mean_precision_at_k(target, similar_docs)))"
   ]
  },
  {
   "cell_type": "code",
   "execution_count": 10,
   "metadata": {},
   "outputs": [
    {
     "name": "stdout",
     "output_type": "stream",
     "text": [
      "Mean precision@10: 0.619 if use singulars is True\n",
      "Mean precision@10: 0.468 if use singulars is False\n"
     ]
    }
   ],
   "source": [
    "for singulars in [True, False]:\n",
    "    decomposed_vectors = lsa(vectorized_dtm, components=100, use_singulars=singulars)\n",
    "    similar_docs = most_similar(decomposed_vectors, target)\n",
    "    print(\"Mean precision@10: {:.3f} if use singulars is {}\".format(mean_precision_at_k(target, similar_docs),\n",
    "                                                                    singulars)) "
   ]
  },
  {
   "cell_type": "markdown",
   "metadata": {},
   "source": [
    "# Comparison with gensim lda model"
   ]
  },
  {
   "cell_type": "code",
   "execution_count": 11,
   "metadata": {},
   "outputs": [],
   "source": [
    "from gensim import models, corpora, matutils, similarities"
   ]
  },
  {
   "cell_type": "code",
   "execution_count": 12,
   "metadata": {},
   "outputs": [],
   "source": [
    "vocab_gensim = corpora.Dictionary(cleaned_corpus)\n",
    "bow_corpus = [vocab_gensim.doc2bow(text) for text in cleaned_corpus]"
   ]
  },
  {
   "cell_type": "code",
   "execution_count": 13,
   "metadata": {},
   "outputs": [],
   "source": [
    "tfidf_model = models.TfidfModel(bow_corpus)\n",
    "tfidf_corpus = tfidf_model[bow_corpus]"
   ]
  },
  {
   "cell_type": "code",
   "execution_count": 15,
   "metadata": {},
   "outputs": [],
   "source": [
    "TOTAL_TOPICS = 20\n",
    "\n",
    "lda_model_tfidf = models.LdaModel(corpus=tfidf_corpus, \n",
    "                                  id2word=vocab_gensim, \n",
    "                                  num_topics=TOTAL_TOPICS, \n",
    "                                  random_state=239)"
   ]
  },
  {
   "cell_type": "code",
   "execution_count": 16,
   "metadata": {},
   "outputs": [],
   "source": [
    "sims = similarities.MatrixSimilarity(lda_model_tfidf[tfidf_corpus])"
   ]
  },
  {
   "cell_type": "code",
   "execution_count": 17,
   "metadata": {},
   "outputs": [],
   "source": [
    "vecs = lda_model_tfidf[tfidf_corpus]"
   ]
  },
  {
   "cell_type": "code",
   "execution_count": 18,
   "metadata": {},
   "outputs": [],
   "source": [
    "sims_matrix = sims[vecs]\n",
    "np.fill_diagonal(sims_matrix, -1)\n",
    "target_indices = np.argpartition(-sims_matrix, 10, axis=0)[:, :10]\n",
    "most_similar_docs = target[target_indices]"
   ]
  },
  {
   "cell_type": "code",
   "execution_count": 19,
   "metadata": {},
   "outputs": [
    {
     "name": "stdout",
     "output_type": "stream",
     "text": [
      "Mean precision@10: 0.378\n"
     ]
    }
   ],
   "source": [
    "print(\"Mean precision@10: {:.3f}\".format(mean_precision_at_k(target, most_similar_docs)))"
   ]
  },
  {
   "cell_type": "code",
   "execution_count": null,
   "metadata": {},
   "outputs": [],
   "source": []
  }
 ],
 "metadata": {
  "kernelspec": {
   "display_name": "Python 3",
   "language": "python",
   "name": "python3"
  },
  "language_info": {
   "codemirror_mode": {
    "name": "ipython",
    "version": 3
   },
   "file_extension": ".py",
   "mimetype": "text/x-python",
   "name": "python",
   "nbconvert_exporter": "python",
   "pygments_lexer": "ipython3",
   "version": "3.8.2"
  }
 },
 "nbformat": 4,
 "nbformat_minor": 1
}