{
 "cells": [
  {
   "cell_type": "code",
   "execution_count": 11,
   "id": "substantial-cleveland",
   "metadata": {},
   "outputs": [],
   "source": [
    "import numpy as np\n",
    "import pandas as pd\n",
    "import torch\n",
    "import pytorch_lightning as pl\n",
    "from torch.utils.data import random_split\n",
    "from sklearn.metrics import confusion_matrix\n",
    "\n",
    "from BiDirectionalLSTM import NerDataSet, NerNN, padded_data_loader"
   ]
  },
  {
   "cell_type": "markdown",
   "id": "advised-decrease",
   "metadata": {},
   "source": [
    "## Data load and prep"
   ]
  },
  {
   "cell_type": "code",
   "execution_count": 3,
   "id": "coastal-private",
   "metadata": {},
   "outputs": [],
   "source": [
    "df = pd.read_csv('https://dl.dropboxusercontent.com/s/tlijezgr8tnpeym/ner_dataset.csv?dl=0', \n",
    "                 header=0, \n",
    "                 encoding='latin')\n",
    "\n",
    "df['Sentence #'].fillna(method='ffill', inplace=True)\n",
    "grouped = df.groupby(by='Sentence #').agg(lambda x: list(x))\n",
    "\n",
    "sentences = grouped['Word'].values\n",
    "tags = grouped['Tag'].values"
   ]
  },
  {
   "cell_type": "markdown",
   "id": "typical-observer",
   "metadata": {},
   "source": [
    "## Torch data prep"
   ]
  },
  {
   "cell_type": "code",
   "execution_count": 5,
   "id": "naughty-lebanon",
   "metadata": {},
   "outputs": [],
   "source": [
    "workers = 0\n",
    "\n",
    "ds = NerDataSet(sentences, tags)\n",
    "train_set, test_set = random_split(ds, [40000, 7959], generator=torch.Generator().manual_seed(42))\n",
    "train_loader = padded_data_loader(data=train_set, workers=workers, batch_size=64)\n",
    "test_loader = padded_data_loader(data=test_set, workers=workers, batch_size=64)"
   ]
  },
  {
   "cell_type": "markdown",
   "id": "painted-remainder",
   "metadata": {},
   "source": [
    "## Model Init and train"
   ]
  },
  {
   "cell_type": "code",
   "execution_count": 26,
   "id": "grateful-crack",
   "metadata": {},
   "outputs": [],
   "source": [
    "model = NerNN(len(ds.vocab), len(ds.tag_vocab), num_layers=1, dropout=0)\n",
    "logger = pl.loggers.TensorBoardLogger('tb_logs', name='ner_lstm_logs')"
   ]
  },
  {
   "cell_type": "code",
   "execution_count": 27,
   "id": "preceding-spirituality",
   "metadata": {},
   "outputs": [
    {
     "name": "stderr",
     "output_type": "stream",
     "text": [
      "GPU available: True, used: True\n",
      "TPU available: None, using: 0 TPU cores\n",
      "LOCAL_RANK: 0 - CUDA_VISIBLE_DEVICES: [0]\n",
      "\n",
      "  | Name      | Type      | Params\n",
      "----------------------------------------\n",
      "0 | embedding | Embedding | 4.1 M \n",
      "1 | lstm      | LSTM      | 790 K \n",
      "2 | linear    | Linear    | 9.2 K \n",
      "3 | f1_metric | F1        | 0     \n",
      "----------------------------------------\n",
      "4.9 M     Trainable params\n",
      "0         Non-trainable params\n",
      "4.9 M     Total params\n"
     ]
    },
    {
     "data": {
      "application/vnd.jupyter.widget-view+json": {
       "model_id": "",
       "version_major": 2,
       "version_minor": 0
      },
      "text/plain": [
       "Validation sanity check: 0it [00:00, ?it/s]"
      ]
     },
     "metadata": {},
     "output_type": "display_data"
    },
    {
     "data": {
      "application/vnd.jupyter.widget-view+json": {
       "model_id": "ac19ec19e55441a496c64bd16a3de004",
       "version_major": 2,
       "version_minor": 0
      },
      "text/plain": [
       "Training: 0it [00:00, ?it/s]"
      ]
     },
     "metadata": {},
     "output_type": "display_data"
    },
    {
     "data": {
      "application/vnd.jupyter.widget-view+json": {
       "model_id": "",
       "version_major": 2,
       "version_minor": 0
      },
      "text/plain": [
       "Validating: 0it [00:00, ?it/s]"
      ]
     },
     "metadata": {},
     "output_type": "display_data"
    },
    {
     "data": {
      "application/vnd.jupyter.widget-view+json": {
       "model_id": "",
       "version_major": 2,
       "version_minor": 0
      },
      "text/plain": [
       "Validating: 0it [00:00, ?it/s]"
      ]
     },
     "metadata": {},
     "output_type": "display_data"
    },
    {
     "data": {
      "application/vnd.jupyter.widget-view+json": {
       "model_id": "",
       "version_major": 2,
       "version_minor": 0
      },
      "text/plain": [
       "Validating: 0it [00:00, ?it/s]"
      ]
     },
     "metadata": {},
     "output_type": "display_data"
    },
    {
     "data": {
      "application/vnd.jupyter.widget-view+json": {
       "model_id": "",
       "version_major": 2,
       "version_minor": 0
      },
      "text/plain": [
       "Validating: 0it [00:00, ?it/s]"
      ]
     },
     "metadata": {},
     "output_type": "display_data"
    },
    {
     "data": {
      "application/vnd.jupyter.widget-view+json": {
       "model_id": "",
       "version_major": 2,
       "version_minor": 0
      },
      "text/plain": [
       "Validating: 0it [00:00, ?it/s]"
      ]
     },
     "metadata": {},
     "output_type": "display_data"
    },
    {
     "data": {
      "application/vnd.jupyter.widget-view+json": {
       "model_id": "",
       "version_major": 2,
       "version_minor": 0
      },
      "text/plain": [
       "Validating: 0it [00:00, ?it/s]"
      ]
     },
     "metadata": {},
     "output_type": "display_data"
    },
    {
     "data": {
      "application/vnd.jupyter.widget-view+json": {
       "model_id": "",
       "version_major": 2,
       "version_minor": 0
      },
      "text/plain": [
       "Validating: 0it [00:00, ?it/s]"
      ]
     },
     "metadata": {},
     "output_type": "display_data"
    },
    {
     "data": {
      "application/vnd.jupyter.widget-view+json": {
       "model_id": "",
       "version_major": 2,
       "version_minor": 0
      },
      "text/plain": [
       "Validating: 0it [00:00, ?it/s]"
      ]
     },
     "metadata": {},
     "output_type": "display_data"
    },
    {
     "data": {
      "application/vnd.jupyter.widget-view+json": {
       "model_id": "",
       "version_major": 2,
       "version_minor": 0
      },
      "text/plain": [
       "Validating: 0it [00:00, ?it/s]"
      ]
     },
     "metadata": {},
     "output_type": "display_data"
    },
    {
     "data": {
      "application/vnd.jupyter.widget-view+json": {
       "model_id": "",
       "version_major": 2,
       "version_minor": 0
      },
      "text/plain": [
       "Validating: 0it [00:00, ?it/s]"
      ]
     },
     "metadata": {},
     "output_type": "display_data"
    },
    {
     "data": {
      "application/vnd.jupyter.widget-view+json": {
       "model_id": "",
       "version_major": 2,
       "version_minor": 0
      },
      "text/plain": [
       "Validating: 0it [00:00, ?it/s]"
      ]
     },
     "metadata": {},
     "output_type": "display_data"
    },
    {
     "data": {
      "application/vnd.jupyter.widget-view+json": {
       "model_id": "",
       "version_major": 2,
       "version_minor": 0
      },
      "text/plain": [
       "Validating: 0it [00:00, ?it/s]"
      ]
     },
     "metadata": {},
     "output_type": "display_data"
    },
    {
     "data": {
      "application/vnd.jupyter.widget-view+json": {
       "model_id": "",
       "version_major": 2,
       "version_minor": 0
      },
      "text/plain": [
       "Validating: 0it [00:00, ?it/s]"
      ]
     },
     "metadata": {},
     "output_type": "display_data"
    },
    {
     "data": {
      "application/vnd.jupyter.widget-view+json": {
       "model_id": "",
       "version_major": 2,
       "version_minor": 0
      },
      "text/plain": [
       "Validating: 0it [00:00, ?it/s]"
      ]
     },
     "metadata": {},
     "output_type": "display_data"
    },
    {
     "data": {
      "application/vnd.jupyter.widget-view+json": {
       "model_id": "",
       "version_major": 2,
       "version_minor": 0
      },
      "text/plain": [
       "Validating: 0it [00:00, ?it/s]"
      ]
     },
     "metadata": {},
     "output_type": "display_data"
    },
    {
     "data": {
      "application/vnd.jupyter.widget-view+json": {
       "model_id": "",
       "version_major": 2,
       "version_minor": 0
      },
      "text/plain": [
       "Validating: 0it [00:00, ?it/s]"
      ]
     },
     "metadata": {},
     "output_type": "display_data"
    },
    {
     "data": {
      "application/vnd.jupyter.widget-view+json": {
       "model_id": "",
       "version_major": 2,
       "version_minor": 0
      },
      "text/plain": [
       "Validating: 0it [00:00, ?it/s]"
      ]
     },
     "metadata": {},
     "output_type": "display_data"
    },
    {
     "data": {
      "application/vnd.jupyter.widget-view+json": {
       "model_id": "",
       "version_major": 2,
       "version_minor": 0
      },
      "text/plain": [
       "Validating: 0it [00:00, ?it/s]"
      ]
     },
     "metadata": {},
     "output_type": "display_data"
    },
    {
     "data": {
      "application/vnd.jupyter.widget-view+json": {
       "model_id": "",
       "version_major": 2,
       "version_minor": 0
      },
      "text/plain": [
       "Validating: 0it [00:00, ?it/s]"
      ]
     },
     "metadata": {},
     "output_type": "display_data"
    },
    {
     "data": {
      "application/vnd.jupyter.widget-view+json": {
       "model_id": "",
       "version_major": 2,
       "version_minor": 0
      },
      "text/plain": [
       "Validating: 0it [00:00, ?it/s]"
      ]
     },
     "metadata": {},
     "output_type": "display_data"
    },
    {
     "data": {
      "text/plain": [
       "1"
      ]
     },
     "execution_count": 27,
     "metadata": {},
     "output_type": "execute_result"
    }
   ],
   "source": [
    "trainer = pl.Trainer(max_epochs=20, min_epochs=5 , logger=logger, gpus=1)\n",
    "trainer.fit(model, train_loader, test_loader)"
   ]
  },
  {
   "cell_type": "markdown",
   "id": "weekly-carrier",
   "metadata": {},
   "source": [
    "## Evaluation"
   ]
  },
  {
   "cell_type": "code",
   "execution_count": 28,
   "id": "worthy-pound",
   "metadata": {},
   "outputs": [
    {
     "name": "stderr",
     "output_type": "stream",
     "text": [
      "<ipython-input-28-737a5a650ddd>:13: RuntimeWarning: invalid value encountered in true_divide\n",
      "  prec = tp / conf_matrix.sum(axis=0)\n"
     ]
    }
   ],
   "source": [
    "labels = list(range(1,18))\n",
    "model.eval()\n",
    "conf_matrix = np.zeros((len(ds.tag_vocab)-1, len(ds.tag_vocab)-1))\n",
    "for  sentences, tags in test_loader:\n",
    "    tags = tags.flatten()\n",
    "    tag_mask = tags != 0\n",
    "    outputs = model(sentences)\n",
    "    predicted = outputs.argmax(2)\n",
    "    tags = tags[tag_mask]\n",
    "    predicted = predicted.flatten()[tag_mask]\n",
    "    conf_matrix += confusion_matrix(tags.numpy(), predicted.numpy(), labels=labels)\n",
    "tp = np.diagonal(conf_matrix)\n",
    "prec = tp / conf_matrix.sum(axis=0)\n",
    "rec = tp / conf_matrix.sum(axis=1)\n",
    "mask = np.logical_and(prec == 0, rec == 0)\n",
    "f1 = 2 * (prec * rec /(prec + rec))\n",
    "f1[mask] = 0"
   ]
  },
  {
   "cell_type": "code",
   "execution_count": 29,
   "id": "hidden-munich",
   "metadata": {},
   "outputs": [
    {
     "data": {
      "text/html": [
       "<div>\n",
       "<style scoped>\n",
       "    .dataframe tbody tr th:only-of-type {\n",
       "        vertical-align: middle;\n",
       "    }\n",
       "\n",
       "    .dataframe tbody tr th {\n",
       "        vertical-align: top;\n",
       "    }\n",
       "\n",
       "    .dataframe thead th {\n",
       "        text-align: right;\n",
       "    }\n",
       "</style>\n",
       "<table border=\"1\" class=\"dataframe\">\n",
       "  <thead>\n",
       "    <tr style=\"text-align: right;\">\n",
       "      <th></th>\n",
       "      <th>recall</th>\n",
       "      <th>precision</th>\n",
       "      <th>f1</th>\n",
       "    </tr>\n",
       "    <tr>\n",
       "      <th>labels</th>\n",
       "      <th></th>\n",
       "      <th></th>\n",
       "      <th></th>\n",
       "    </tr>\n",
       "  </thead>\n",
       "  <tbody>\n",
       "    <tr>\n",
       "      <th>B-nat</th>\n",
       "      <td>0.222222</td>\n",
       "      <td>0.615385</td>\n",
       "      <td>0.326531</td>\n",
       "    </tr>\n",
       "    <tr>\n",
       "      <th>I-tim</th>\n",
       "      <td>0.694767</td>\n",
       "      <td>0.812005</td>\n",
       "      <td>0.748825</td>\n",
       "    </tr>\n",
       "    <tr>\n",
       "      <th>B-art</th>\n",
       "      <td>0.000000</td>\n",
       "      <td>NaN</td>\n",
       "      <td>NaN</td>\n",
       "    </tr>\n",
       "    <tr>\n",
       "      <th>B-geo</th>\n",
       "      <td>0.858993</td>\n",
       "      <td>0.827253</td>\n",
       "      <td>0.842824</td>\n",
       "    </tr>\n",
       "    <tr>\n",
       "      <th>I-per</th>\n",
       "      <td>0.817342</td>\n",
       "      <td>0.829128</td>\n",
       "      <td>0.823193</td>\n",
       "    </tr>\n",
       "    <tr>\n",
       "      <th>B-tim</th>\n",
       "      <td>0.851874</td>\n",
       "      <td>0.909578</td>\n",
       "      <td>0.879781</td>\n",
       "    </tr>\n",
       "    <tr>\n",
       "      <th>B-eve</th>\n",
       "      <td>0.194444</td>\n",
       "      <td>0.700000</td>\n",
       "      <td>0.304348</td>\n",
       "    </tr>\n",
       "    <tr>\n",
       "      <th>I-org</th>\n",
       "      <td>0.556798</td>\n",
       "      <td>0.695182</td>\n",
       "      <td>0.618342</td>\n",
       "    </tr>\n",
       "    <tr>\n",
       "      <th>I-gpe</th>\n",
       "      <td>0.533333</td>\n",
       "      <td>1.000000</td>\n",
       "      <td>0.695652</td>\n",
       "    </tr>\n",
       "    <tr>\n",
       "      <th>B-gpe</th>\n",
       "      <td>0.902128</td>\n",
       "      <td>0.937676</td>\n",
       "      <td>0.919558</td>\n",
       "    </tr>\n",
       "    <tr>\n",
       "      <th>B-org</th>\n",
       "      <td>0.577305</td>\n",
       "      <td>0.711359</td>\n",
       "      <td>0.637359</td>\n",
       "    </tr>\n",
       "    <tr>\n",
       "      <th>O</th>\n",
       "      <td>0.989185</td>\n",
       "      <td>0.976520</td>\n",
       "      <td>0.982812</td>\n",
       "    </tr>\n",
       "    <tr>\n",
       "      <th>I-eve</th>\n",
       "      <td>0.100000</td>\n",
       "      <td>0.428571</td>\n",
       "      <td>0.162162</td>\n",
       "    </tr>\n",
       "    <tr>\n",
       "      <th>I-art</th>\n",
       "      <td>0.000000</td>\n",
       "      <td>NaN</td>\n",
       "      <td>NaN</td>\n",
       "    </tr>\n",
       "    <tr>\n",
       "      <th>I-nat</th>\n",
       "      <td>0.076923</td>\n",
       "      <td>1.000000</td>\n",
       "      <td>0.142857</td>\n",
       "    </tr>\n",
       "    <tr>\n",
       "      <th>B-per</th>\n",
       "      <td>0.727305</td>\n",
       "      <td>0.779629</td>\n",
       "      <td>0.752558</td>\n",
       "    </tr>\n",
       "    <tr>\n",
       "      <th>I-geo</th>\n",
       "      <td>0.715545</td>\n",
       "      <td>0.758065</td>\n",
       "      <td>0.736191</td>\n",
       "    </tr>\n",
       "  </tbody>\n",
       "</table>\n",
       "</div>"
      ],
      "text/plain": [
       "          recall  precision        f1\n",
       "labels                               \n",
       "B-nat   0.222222   0.615385  0.326531\n",
       "I-tim   0.694767   0.812005  0.748825\n",
       "B-art   0.000000        NaN       NaN\n",
       "B-geo   0.858993   0.827253  0.842824\n",
       "I-per   0.817342   0.829128  0.823193\n",
       "B-tim   0.851874   0.909578  0.879781\n",
       "B-eve   0.194444   0.700000  0.304348\n",
       "I-org   0.556798   0.695182  0.618342\n",
       "I-gpe   0.533333   1.000000  0.695652\n",
       "B-gpe   0.902128   0.937676  0.919558\n",
       "B-org   0.577305   0.711359  0.637359\n",
       "O       0.989185   0.976520  0.982812\n",
       "I-eve   0.100000   0.428571  0.162162\n",
       "I-art   0.000000        NaN       NaN\n",
       "I-nat   0.076923   1.000000  0.142857\n",
       "B-per   0.727305   0.779629  0.752558\n",
       "I-geo   0.715545   0.758065  0.736191"
      ]
     },
     "execution_count": 29,
     "metadata": {},
     "output_type": "execute_result"
    }
   ],
   "source": [
    "labels = list(ds.tag_vocab.keys())[1:]\n",
    "report = pd.DataFrame.from_dict({'labels': labels, 'recall': rec, 'precision': prec, 'f1': f1})\n",
    "report.set_index('labels')"
   ]
  },
  {
   "cell_type": "code",
   "execution_count": 30,
   "id": "united-process",
   "metadata": {},
   "outputs": [
    {
     "data": {
      "text/plain": [
       "(nan, 0.5187155365896672, nan)"
      ]
     },
     "execution_count": 30,
     "metadata": {},
     "output_type": "execute_result"
    }
   ],
   "source": [
    "f1.mean(), rec.mean(), prec.mean()"
   ]
  },
  {
   "cell_type": "code",
   "execution_count": null,
   "id": "shaped-intention",
   "metadata": {},
   "outputs": [],
   "source": []
  }
 ],
 "metadata": {
  "kernelspec": {
   "display_name": "Python 3",
   "language": "python",
   "name": "python3"
  },
  "language_info": {
   "codemirror_mode": {
    "name": "ipython",
    "version": 3
   },
   "file_extension": ".py",
   "mimetype": "text/x-python",
   "name": "python",
   "nbconvert_exporter": "python",
   "pygments_lexer": "ipython3",
   "version": "3.9.1"
  }
 },
 "nbformat": 4,
 "nbformat_minor": 5
}
