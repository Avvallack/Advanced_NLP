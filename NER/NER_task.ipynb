{
 "cells": [
  {
   "cell_type": "code",
   "execution_count": 1,
   "metadata": {},
   "outputs": [],
   "source": [
    "import numpy as np\n",
    "import pandas as pd\n",
    "from matplotlib import pyplot as plt\n",
    "import seaborn as sns\n",
    "from sklearn.metrics import classification_report"
   ]
  },
  {
   "cell_type": "code",
   "execution_count": 2,
   "metadata": {},
   "outputs": [],
   "source": [
    "df = pd.read_csv('https://dl.dropboxusercontent.com/s/tlijezgr8tnpeym/ner_dataset.csv?dl=0', \n",
    "                 header=0, \n",
    "                 encoding='latin')"
   ]
  },
  {
   "cell_type": "code",
   "execution_count": 3,
   "metadata": {},
   "outputs": [],
   "source": [
    "df['Sentence #'].fillna(method='ffill', inplace=True)"
   ]
  },
  {
   "cell_type": "code",
   "execution_count": 4,
   "metadata": {},
   "outputs": [
    {
     "data": {
      "text/html": [
       "<div>\n",
       "<style scoped>\n",
       "    .dataframe tbody tr th:only-of-type {\n",
       "        vertical-align: middle;\n",
       "    }\n",
       "\n",
       "    .dataframe tbody tr th {\n",
       "        vertical-align: top;\n",
       "    }\n",
       "\n",
       "    .dataframe thead th {\n",
       "        text-align: right;\n",
       "    }\n",
       "</style>\n",
       "<table border=\"1\" class=\"dataframe\">\n",
       "  <thead>\n",
       "    <tr style=\"text-align: right;\">\n",
       "      <th></th>\n",
       "      <th>Sentence #</th>\n",
       "      <th>Word</th>\n",
       "      <th>POS</th>\n",
       "      <th>Tag</th>\n",
       "    </tr>\n",
       "  </thead>\n",
       "  <tbody>\n",
       "    <tr>\n",
       "      <th>1044077</th>\n",
       "      <td>Sentence: 47751</td>\n",
       "      <td>the</td>\n",
       "      <td>DT</td>\n",
       "      <td>O</td>\n",
       "    </tr>\n",
       "    <tr>\n",
       "      <th>636405</th>\n",
       "      <td>Sentence: 29092</td>\n",
       "      <td>ushered</td>\n",
       "      <td>VBD</td>\n",
       "      <td>O</td>\n",
       "    </tr>\n",
       "    <tr>\n",
       "      <th>552969</th>\n",
       "      <td>Sentence: 25285</td>\n",
       "      <td>World</td>\n",
       "      <td>NNP</td>\n",
       "      <td>O</td>\n",
       "    </tr>\n",
       "    <tr>\n",
       "      <th>35273</th>\n",
       "      <td>Sentence: 1583</td>\n",
       "      <td>Tuesday</td>\n",
       "      <td>NNP</td>\n",
       "      <td>B-tim</td>\n",
       "    </tr>\n",
       "    <tr>\n",
       "      <th>737931</th>\n",
       "      <td>Sentence: 33738</td>\n",
       "      <td>find</td>\n",
       "      <td>VB</td>\n",
       "      <td>O</td>\n",
       "    </tr>\n",
       "  </tbody>\n",
       "</table>\n",
       "</div>"
      ],
      "text/plain": [
       "              Sentence #     Word  POS    Tag\n",
       "1044077  Sentence: 47751      the   DT      O\n",
       "636405   Sentence: 29092  ushered  VBD      O\n",
       "552969   Sentence: 25285    World  NNP      O\n",
       "35273     Sentence: 1583  Tuesday  NNP  B-tim\n",
       "737931   Sentence: 33738     find   VB      O"
      ]
     },
     "execution_count": 4,
     "metadata": {},
     "output_type": "execute_result"
    }
   ],
   "source": [
    "df.sample(5)"
   ]
  },
  {
   "cell_type": "markdown",
   "metadata": {},
   "source": [
    "## EDA"
   ]
  },
  {
   "cell_type": "code",
   "execution_count": 5,
   "metadata": {},
   "outputs": [
    {
     "data": {
      "text/plain": [
       "O        887908\n",
       "B-geo     37644\n",
       "B-tim     20333\n",
       "B-org     20143\n",
       "I-per     17251\n",
       "B-per     16990\n",
       "I-org     16784\n",
       "B-gpe     15870\n",
       "I-geo      7414\n",
       "I-tim      6528\n",
       "B-art       402\n",
       "B-eve       308\n",
       "I-art       297\n",
       "I-eve       253\n",
       "B-nat       201\n",
       "I-gpe       198\n",
       "I-nat        51\n",
       "Name: Tag, dtype: int64"
      ]
     },
     "execution_count": 5,
     "metadata": {},
     "output_type": "execute_result"
    }
   ],
   "source": [
    "df['Tag'].value_counts()"
   ]
  },
  {
   "cell_type": "code",
   "execution_count": 6,
   "metadata": {},
   "outputs": [
    {
     "data": {
      "image/png": "[encoded data removed]",
      "text/plain": [
       "<Figure size 864x576 with 1 Axes>"
      ]
     },
     "metadata": {
      "needs_background": "light"
     },
     "output_type": "display_data"
    }
   ],
   "source": [
    "plt.figure(figsize=(12, 8))\n",
    "sns.countplot(y=df['Tag']);"
   ]
  },
  {
   "cell_type": "code",
   "execution_count": 7,
   "metadata": {},
   "outputs": [
    {
     "name": "stdout",
     "output_type": "stream",
     "text": [
      "Number of sentences = 47959\n"
     ]
    }
   ],
   "source": [
    "num_sen = df['Sentence #'].nunique()\n",
    "print(f'Number of sentences = {num_sen}')"
   ]
  },
  {
   "cell_type": "code",
   "execution_count": 8,
   "metadata": {},
   "outputs": [
    {
     "name": "stdout",
     "output_type": "stream",
     "text": [
      "Mean number of tokems in sentence= 21.864\n",
      "Min number of tokems in sentence= 1\n",
      "Max number of tokems in sentence= 104\n"
     ]
    }
   ],
   "source": [
    "mean_words = df['Sentence #'].value_counts().mean()\n",
    "min_words = df['Sentence #'].value_counts().min()\n",
    "max_words = df['Sentence #'].value_counts().max()\n",
    "print('Mean number of tokems in sentence= {:.3f}'.format(mean_words))\n",
    "print('Min number of tokems in sentence= {}'.format(min_words))\n",
    "print('Max number of tokems in sentence= {}'.format(max_words))"
   ]
  },
  {
   "cell_type": "code",
   "execution_count": 9,
   "metadata": {},
   "outputs": [],
   "source": [
    "from collections import Counter\n",
    "\n",
    "cnt_words = Counter(df['Word'])"
   ]
  },
  {
   "cell_type": "code",
   "execution_count": 10,
   "metadata": {},
   "outputs": [
    {
     "name": "stdout",
     "output_type": "stream",
     "text": [
      "The size of voxcabulary = 35178\n"
     ]
    }
   ],
   "source": [
    "print('The size of voxcabulary = {}'.format(len(cnt_words)))"
   ]
  },
  {
   "cell_type": "markdown",
   "metadata": {},
   "source": [
    "## Data Prep"
   ]
  },
  {
   "cell_type": "code",
   "execution_count": 11,
   "metadata": {},
   "outputs": [],
   "source": [
    "grouped = df.groupby(by='Sentence #').agg(lambda x: list(x))"
   ]
  },
  {
   "cell_type": "code",
   "execution_count": 12,
   "metadata": {},
   "outputs": [],
   "source": [
    "test_dataset = grouped.iloc[-5000:,[0,2]]"
   ]
  },
  {
   "cell_type": "code",
   "execution_count": 13,
   "metadata": {},
   "outputs": [],
   "source": [
    "train_dataset = grouped.iloc[ :-5000, [0,2]]"
   ]
  },
  {
   "cell_type": "code",
   "execution_count": 14,
   "metadata": {},
   "outputs": [],
   "source": [
    "vocab = np.unique(np.array([word for words in train_dataset['Word'].values for word in words])).tolist()"
   ]
  },
  {
   "cell_type": "code",
   "execution_count": 15,
   "metadata": {},
   "outputs": [],
   "source": [
    "states = df['Tag'].unique().tolist()"
   ]
  },
  {
   "cell_type": "code",
   "execution_count": 16,
   "metadata": {},
   "outputs": [
    {
     "data": {
      "text/plain": [
       "17"
      ]
     },
     "execution_count": 16,
     "metadata": {},
     "output_type": "execute_result"
    }
   ],
   "source": [
    "len(states)"
   ]
  },
  {
   "cell_type": "markdown",
   "metadata": {},
   "source": [
    "## HMM"
   ]
  },
  {
   "cell_type": "code",
   "execution_count": 17,
   "metadata": {},
   "outputs": [],
   "source": [
    "train_hmm = [[(word, tag) for tag, word in zip(*element)] for element in zip(train_dataset['Word'], train_dataset['Tag'])]"
   ]
  },
  {
   "cell_type": "code",
   "execution_count": 18,
   "metadata": {},
   "outputs": [],
   "source": [
    "test_hmm = test_dataset['Word'].values.tolist()"
   ]
  },
  {
   "cell_type": "code",
   "execution_count": 19,
   "metadata": {},
   "outputs": [],
   "source": [
    "from HMM import HMMTagger"
   ]
  },
  {
   "cell_type": "code",
   "execution_count": 20,
   "metadata": {},
   "outputs": [],
   "source": [
    "tagger = HMMTagger(states, vocab)"
   ]
  },
  {
   "cell_type": "code",
   "execution_count": 21,
   "metadata": {},
   "outputs": [],
   "source": [
    "tagger.fit(train_hmm)"
   ]
  },
  {
   "cell_type": "code",
   "execution_count": 22,
   "metadata": {},
   "outputs": [],
   "source": [
    "predict = tagger.predict(test_hmm)"
   ]
  },
  {
   "cell_type": "code",
   "execution_count": 23,
   "metadata": {},
   "outputs": [],
   "source": [
    "y_true = [tag for tags in test_dataset['Tag'] for tag in tags]"
   ]
  },
  {
   "cell_type": "code",
   "execution_count": 24,
   "metadata": {},
   "outputs": [],
   "source": [
    "prediction = [tag for tags in predict for tag in tags]"
   ]
  },
  {
   "cell_type": "code",
   "execution_count": 25,
   "metadata": {},
   "outputs": [
    {
     "name": "stderr",
     "output_type": "stream",
     "text": [
      "/Users/avvallack/PycharmProjects/Advanced_NLP/venv/lib/python3.9/site-packages/sklearn/metrics/_classification.py:1221: UndefinedMetricWarning: Precision and F-score are ill-defined and being set to 0.0 in labels with no predicted samples. Use `zero_division` parameter to control this behavior.\n",
      "  _warn_prf(average, modifier, msg_start, len(result))\n"
     ]
    },
    {
     "name": "stdout",
     "output_type": "stream",
     "text": [
      "              precision    recall  f1-score   support\n",
      "\n",
      "       B-art       0.00      0.00      0.00        44\n",
      "       B-eve       0.00      0.00      0.00        44\n",
      "       B-geo       0.83      0.85      0.84      3951\n",
      "       B-gpe       0.89      0.88      0.88      1767\n",
      "       B-nat       0.00      0.00      0.00        19\n",
      "       B-org       0.77      0.59      0.67      2004\n",
      "       B-per       0.77      0.71      0.74      1715\n",
      "       B-tim       0.91      0.77      0.83      2077\n",
      "       I-art       0.00      0.00      0.00        24\n",
      "       I-eve       0.00      0.00      0.00        28\n",
      "       I-geo       0.79      0.69      0.74       789\n",
      "       I-gpe       0.80      0.27      0.40        15\n",
      "       I-nat       0.00      0.00      0.00        10\n",
      "       I-org       0.68      0.76      0.72      1628\n",
      "       I-per       0.72      0.92      0.81      1732\n",
      "       I-tim       0.82      0.46      0.59       646\n",
      "           O       0.98      0.99      0.98     92190\n",
      "\n",
      "    accuracy                           0.95    108683\n",
      "   macro avg       0.53      0.46      0.48    108683\n",
      "weighted avg       0.95      0.95      0.95    108683\n",
      "\n"
     ]
    }
   ],
   "source": [
    "\n",
    "print(classification_report(y_true, prediction))"
   ]
  },
  {
   "cell_type": "markdown",
   "metadata": {},
   "source": [
    "## CRF"
   ]
  },
  {
   "cell_type": "code",
   "execution_count": 26,
   "metadata": {},
   "outputs": [],
   "source": [
    "from sklearn_crfsuite import CRF\n",
    "from sklearn.model_selection import cross_val_predict\n",
    "from sklearn_crfsuite.metrics import flat_classification_report"
   ]
  },
  {
   "cell_type": "code",
   "execution_count": 27,
   "metadata": {},
   "outputs": [],
   "source": [
    "crf_corpus = [[(word, pos, tag) for word, pos, tag in zip(*element)] \n",
    "              for element in zip(grouped['Word'], grouped['POS'], grouped['Tag'])]"
   ]
  },
  {
   "cell_type": "code",
   "execution_count": 28,
   "metadata": {},
   "outputs": [
    {
     "data": {
      "text/plain": [
       "[('Thousands', 'NNS', 'O'),\n",
       " ('of', 'IN', 'O'),\n",
       " ('demonstrators', 'NNS', 'O'),\n",
       " ('have', 'VBP', 'O'),\n",
       " ('marched', 'VBN', 'O'),\n",
       " ('through', 'IN', 'O'),\n",
       " ('London', 'NNP', 'B-geo'),\n",
       " ('to', 'TO', 'O'),\n",
       " ('protest', 'VB', 'O'),\n",
       " ('the', 'DT', 'O'),\n",
       " ('war', 'NN', 'O'),\n",
       " ('in', 'IN', 'O'),\n",
       " ('Iraq', 'NNP', 'B-geo'),\n",
       " ('and', 'CC', 'O'),\n",
       " ('demand', 'VB', 'O'),\n",
       " ('the', 'DT', 'O'),\n",
       " ('withdrawal', 'NN', 'O'),\n",
       " ('of', 'IN', 'O'),\n",
       " ('British', 'JJ', 'B-gpe'),\n",
       " ('troops', 'NNS', 'O'),\n",
       " ('from', 'IN', 'O'),\n",
       " ('that', 'DT', 'O'),\n",
       " ('country', 'NN', 'O'),\n",
       " ('.', '.', 'O')]"
      ]
     },
     "execution_count": 28,
     "metadata": {},
     "output_type": "execute_result"
    }
   ],
   "source": [
    "crf_corpus[0]"
   ]
  },
  {
   "cell_type": "code",
   "execution_count": 29,
   "metadata": {},
   "outputs": [],
   "source": [
    "def word2features(sent, i):\n",
    "    word = sent[i][0]\n",
    "    postag = sent[i][1]\n",
    "\n",
    "    features = {\n",
    "        'bias': 1.0,\n",
    "        'word.lower()': word.lower(),\n",
    "        'word[-3:]': word[-3:],\n",
    "        'word[-2:]': word[-2:],\n",
    "        'word.isupper()': word.isupper(),\n",
    "        'word.istitle()': word.istitle(),\n",
    "        'word.isdigit()': word.isdigit(),\n",
    "        'postag': postag,\n",
    "        'postag[:2]': postag[:2],\n",
    "    }\n",
    "    if i > 0:\n",
    "        word1 = sent[i-1][0]\n",
    "        postag1 = sent[i-1][1]\n",
    "        features.update({\n",
    "            '-1:word.lower()': word1.lower(),\n",
    "            '-1:word.istitle()': word1.istitle(),\n",
    "            '-1:word.isupper()': word1.isupper(),\n",
    "            '-1:postag': postag1,\n",
    "            '-1:postag[:2]': postag1[:2],\n",
    "        })\n",
    "    else:\n",
    "        features['BOS'] = True\n",
    "\n",
    "    if i < len(sent)-1:\n",
    "        word1 = sent[i+1][0]\n",
    "        postag1 = sent[i+1][1]\n",
    "        features.update({\n",
    "            '+1:word.lower()': word1.lower(),\n",
    "            '+1:word.istitle()': word1.istitle(),\n",
    "            '+1:word.isupper()': word1.isupper(),\n",
    "            '+1:postag': postag1,\n",
    "            '+1:postag[:2]': postag1[:2],\n",
    "        })\n",
    "    else:\n",
    "        features['EOS'] = True\n",
    "\n",
    "    return features\n",
    "\n",
    "\n",
    "def sent2features(sent):\n",
    "    return [word2features(sent, i) for i in range(len(sent))]\n",
    "\n",
    "def sent2labels(sent):\n",
    "    return [label for token, postag, label in sent]\n",
    "\n",
    "def sent2tokens(sent):\n",
    "    return [token for token, postag, label in sent]\n"
   ]
  },
  {
   "cell_type": "code",
   "execution_count": 30,
   "metadata": {},
   "outputs": [],
   "source": [
    "X = [sent2features(s) for s in crf_corpus]\n",
    "y = [sent2labels(s) for s in crf_corpus]"
   ]
  },
  {
   "cell_type": "code",
   "execution_count": 31,
   "metadata": {},
   "outputs": [],
   "source": [
    "crf = CRF(algorithm='lbfgs',\n",
    "c1=10,\n",
    "c2=0.1,\n",
    "max_iterations=100,\n",
    "all_possible_transitions=False)"
   ]
  },
  {
   "cell_type": "code",
   "execution_count": 32,
   "metadata": {},
   "outputs": [
    {
     "name": "stderr",
     "output_type": "stream",
     "text": [
      "/Users/avvallack/PycharmProjects/Advanced_NLP/venv/lib/python3.9/site-packages/sklearn/base.py:209: FutureWarning: From version 0.24, get_params will raise an AttributeError if a parameter cannot be retrieved as an instance attribute. Previously it would return None.\n",
      "  warnings.warn('From version 0.24, get_params will raise an '\n",
      "<__array_function__ internals>:5: VisibleDeprecationWarning: Creating an ndarray from ragged nested sequences (which is a list-or-tuple of lists-or-tuples-or ndarrays with different lengths or shapes) is deprecated. If you meant to do this, you must specify 'dtype=object' when creating the ndarray\n"
     ]
    }
   ],
   "source": [
    "pred = cross_val_predict(estimator=crf, X=X, y=y, cv=5)"
   ]
  },
  {
   "cell_type": "code",
   "execution_count": 33,
   "metadata": {},
   "outputs": [
    {
     "name": "stderr",
     "output_type": "stream",
     "text": [
      "/Users/avvallack/PycharmProjects/Advanced_NLP/venv/lib/python3.9/site-packages/sklearn/utils/validation.py:67: FutureWarning: Pass labels=None as keyword args. From version 0.25 passing these as positional arguments will result in an error\n",
      "  warnings.warn(\"Pass {} as keyword args. From version 0.25 \"\n"
     ]
    },
    {
     "name": "stdout",
     "output_type": "stream",
     "text": [
      "              precision    recall  f1-score   support\n",
      "\n",
      "       B-art       0.00      0.00      0.00       402\n",
      "       B-eve       0.80      0.27      0.40       308\n",
      "       B-geo       0.82      0.90      0.86     37644\n",
      "       B-gpe       0.95      0.92      0.94     15870\n",
      "       B-nat       0.69      0.09      0.16       201\n",
      "       B-org       0.78      0.67      0.72     20143\n",
      "       B-per       0.80      0.76      0.78     16990\n",
      "       B-tim       0.93      0.83      0.88     20333\n",
      "       I-art       0.00      0.00      0.00       297\n",
      "       I-eve       0.64      0.12      0.20       253\n",
      "       I-geo       0.81      0.73      0.77      7414\n",
      "       I-gpe       0.93      0.37      0.53       198\n",
      "       I-nat       0.00      0.00      0.00        51\n",
      "       I-org       0.75      0.76      0.75     16784\n",
      "       I-per       0.80      0.90      0.85     17251\n",
      "       I-tim       0.84      0.67      0.74      6528\n",
      "           O       0.99      0.99      0.99    887908\n",
      "\n",
      "    accuracy                           0.97   1048575\n",
      "   macro avg       0.68      0.53      0.56   1048575\n",
      "weighted avg       0.96      0.97      0.96   1048575\n",
      "\n"
     ]
    }
   ],
   "source": [
    "report = flat_classification_report(y_pred=pred, y_true=y)\n",
    "print(report)"
   ]
  },
  {
   "cell_type": "markdown",
   "metadata": {},
   "source": [
    "## Bi-Directional LSTM"
   ]
  },
  {
   "cell_type": "code",
   "execution_count": 41,
   "metadata": {},
   "outputs": [],
   "source": [
    "import torch\n",
    "from BiDirectionalLSTM import NerDataSet, NerNN, BiLSTM, padded_data_loader"
   ]
  },
  {
   "cell_type": "markdown",
   "metadata": {},
   "source": [
    "### Data Prep"
   ]
  },
  {
   "cell_type": "code",
   "execution_count": 36,
   "metadata": {},
   "outputs": [],
   "source": [
    "sentences = grouped['Word'].values\n",
    "tags = grouped['Tag'].values"
   ]
  },
  {
   "cell_type": "code",
   "execution_count": 37,
   "metadata": {},
   "outputs": [],
   "source": [
    "ds = NerDataSet(sentences, tags)"
   ]
  },
  {
   "cell_type": "code",
   "execution_count": 38,
   "metadata": {},
   "outputs": [
    {
     "data": {
      "text/plain": [
       "47959"
      ]
     },
     "execution_count": 38,
     "metadata": {},
     "output_type": "execute_result"
    }
   ],
   "source": [
    "len(ds)"
   ]
  },
  {
   "cell_type": "code",
   "execution_count": 39,
   "metadata": {},
   "outputs": [],
   "source": [
    "learning_rate = 0.01\n",
    "num_epochs = 2\n",
    "device = 'cpu'\n",
    "labels = list(range(1,18))\n",
    "workers = 8"
   ]
  },
  {
   "cell_type": "code",
   "execution_count": 42,
   "metadata": {},
   "outputs": [],
   "source": [
    "from torch.utils.data import random_split\n",
    "train_set, test_set = random_split(ds, [40000, 7959], generator=torch.Generator().manual_seed(42))"
   ]
  },
  {
   "cell_type": "code",
   "execution_count": 43,
   "metadata": {},
   "outputs": [],
   "source": [
    "train_loader = padded_data_loader(data=train_set, workers=workers, batch_size=32)"
   ]
  },
  {
   "cell_type": "code",
   "execution_count": 44,
   "metadata": {},
   "outputs": [],
   "source": [
    "test_loader = padded_data_loader(data=test_set, workers=workers, batch_size=32)"
   ]
  },
  {
   "cell_type": "markdown",
   "metadata": {},
   "source": [
    "### Model Training & Evaluation"
   ]
  },
  {
   "cell_type": "code",
   "execution_count": 45,
   "metadata": {},
   "outputs": [],
   "source": [
    "model = BiLSTM(len(ds.vocab), len(ds.tag_vocab))"
   ]
  },
  {
   "cell_type": "code",
   "execution_count": 46,
   "metadata": {},
   "outputs": [],
   "source": [
    "import torch.nn.functional as F\n",
    "import torch "
   ]
  },
  {
   "cell_type": "code",
   "execution_count": 47,
   "metadata": {},
   "outputs": [],
   "source": [
    "from sklearn.metrics import confusion_matrix, f1_score"
   ]
  },
  {
   "cell_type": "code",
   "execution_count": 48,
   "metadata": {},
   "outputs": [
    {
     "name": "stdout",
     "output_type": "stream",
     "text": [
      "Epoch [1/2], Step [100/1250], Loss: 0.2995\n",
      "Epoch [1/2], Step [200/1250], Loss: 0.2059\n",
      "Epoch [1/2], Step [300/1250], Loss: 0.1824\n",
      "Epoch [1/2], Step [400/1250], Loss: 0.1258\n",
      "Epoch [1/2], Step [500/1250], Loss: 0.1383\n",
      "Epoch [1/2], Step [600/1250], Loss: 0.1387\n",
      "Epoch [1/2], Step [700/1250], Loss: 0.1517\n",
      "Epoch [1/2], Step [800/1250], Loss: 0.1742\n",
      "Epoch [1/2], Step [900/1250], Loss: 0.1553\n",
      "Epoch [1/2], Step [1000/1250], Loss: 0.2491\n",
      "Epoch [1/2], Step [1100/1250], Loss: 0.1471\n",
      "Epoch [1/2], Step [1200/1250], Loss: 0.0988\n",
      "Macro avg for f1 score on 0 epoch = nan\n"
     ]
    },
    {
     "name": "stderr",
     "output_type": "stream",
     "text": [
      "<ipython-input-48-914e101ab54f>:35: RuntimeWarning: invalid value encountered in true_divide\n",
      "  prec = tp / conf_matrix.sum(axis=0)\n"
     ]
    },
    {
     "name": "stdout",
     "output_type": "stream",
     "text": [
      "Epoch [2/2], Step [100/1250], Loss: 0.1271\n",
      "Epoch [2/2], Step [200/1250], Loss: 0.1205\n",
      "Epoch [2/2], Step [300/1250], Loss: 0.0944\n",
      "Epoch [2/2], Step [400/1250], Loss: 0.0843\n",
      "Epoch [2/2], Step [500/1250], Loss: 0.1117\n",
      "Epoch [2/2], Step [600/1250], Loss: 0.0946\n",
      "Epoch [2/2], Step [700/1250], Loss: 0.0828\n",
      "Epoch [2/2], Step [800/1250], Loss: 0.1000\n",
      "Epoch [2/2], Step [900/1250], Loss: 0.1093\n",
      "Epoch [2/2], Step [1000/1250], Loss: 0.1915\n",
      "Epoch [2/2], Step [1100/1250], Loss: 0.1000\n",
      "Epoch [2/2], Step [1200/1250], Loss: 0.0758\n",
      "Macro avg for f1 score on 1 epoch = nan\n"
     ]
    }
   ],
   "source": [
    "optimizer = torch.optim.Adam(model.parameters(), lr=learning_rate)\n",
    "conf_matrix = np.zeros((len(ds.tag_vocab)-1, len(ds.tag_vocab)-1))\n",
    "total_step = len(train_loader)\n",
    "scores = []\n",
    "for epoch in range(num_epochs):\n",
    "    for i, (sentences, tags) in enumerate(train_loader):\n",
    "        sentences = sentences.to(device)\n",
    "        tags = tags.to(device)\n",
    "        \n",
    "        # Forward pass\n",
    "        outputs = model(sentences)\n",
    "        loss = F.cross_entropy(torch.flatten(outputs, 0, 1), torch.flatten(tags, 0, 1), ignore_index=0)\n",
    "        \n",
    "        # Backward and optimize\n",
    "        optimizer.zero_grad()\n",
    "        loss.backward()\n",
    "        optimizer.step()\n",
    "        \n",
    "        if (i+1) % 100 == 0:\n",
    "            print ('Epoch [{}/{}], Step [{}/{}], Loss: {:.4f}' \n",
    "                   .format(epoch+1, num_epochs, i+1, total_step, loss.item()))\n",
    "    model.eval()\n",
    "    with torch.no_grad():\n",
    "        for  sentences, tags in test_loader:\n",
    "            sentences = sentences.to(device)\n",
    "            tags = tags.to(device)\n",
    "            tags = tags.flatten()\n",
    "            tag_mask = tags != 0\n",
    "            outputs = model(sentences)\n",
    "            predicted = outputs.argmax(2)\n",
    "            tags = tags[tag_mask]\n",
    "            predicted = predicted.flatten()[tag_mask]\n",
    "            conf_matrix += confusion_matrix(tags.numpy(), predicted.numpy(), labels=labels)\n",
    "        tp = np.diagonal(conf_matrix)\n",
    "        prec = tp / conf_matrix.sum(axis=0)\n",
    "        rec = tp / conf_matrix.sum(axis=1)\n",
    "        mask = np.logical_and(prec == 0, rec == 0)\n",
    "        f1 = 2 * (prec * rec /(prec + rec))\n",
    "        f1[mask] = 0\n",
    "        print('Macro avg for f1 score on {} epoch = {:.3f}'.format(epoch, f1.mean()))\n",
    "        scores.append(f1.mean())\n",
    "    model.train()\n",
    "            \n",
    "            \n",
    "\n"
   ]
  },
  {
   "cell_type": "markdown",
   "metadata": {},
   "source": [
    "## Lightning model"
   ]
  },
  {
   "cell_type": "code",
   "execution_count": 49,
   "metadata": {},
   "outputs": [],
   "source": [
    "import pytorch_lightning as pl\n",
    "\n",
    "\n",
    "model = NerNN(len(ds.vocab), len(ds.tag_vocab))\n",
    "logger = pl.loggers.TensorBoardLogger('tb_logs', name='ner_lstm_logs')"
   ]
  },
  {
   "cell_type": "code",
   "execution_count": 50,
   "metadata": {},
   "outputs": [
    {
     "name": "stderr",
     "output_type": "stream",
     "text": [
      "GPU available: False, used: False\n",
      "TPU available: None, using: 0 TPU cores\n",
      "/Users/avvallack/PycharmProjects/Advanced_NLP/venv/lib/python3.9/site-packages/pytorch_lightning/utilities/distributed.py:50: UserWarning: you passed in a val_dataloader but have no validation_step. Skipping validation loop\n",
      "  warnings.warn(*args, **kwargs)\n",
      "\n",
      "  | Name      | Type      | Params\n",
      "----------------------------------------\n",
      "0 | embedding | Embedding | 4.1 M \n",
      "1 | lstm      | LSTM      | 790 K \n",
      "2 | linear    | Linear    | 9.2 K \n",
      "----------------------------------------\n",
      "4.9 M     Trainable params\n",
      "0         Non-trainable params\n",
      "4.9 M     Total params\n"
     ]
    },
    {
     "data": {
      "application/vnd.jupyter.widget-view+json": {
       "model_id": "5068781628b54692ac5e0b9717cff6e5",
       "version_major": 2,
       "version_minor": 0
      },
      "text/plain": [
       "HBox(children=(HTML(value='Training'), FloatProgress(value=1.0, bar_style='info', layout=Layout(flex='2'), max…"
      ]
     },
     "metadata": {},
     "output_type": "display_data"
    },
    {
     "name": "stdout",
     "output_type": "stream",
     "text": [
      "\n"
     ]
    },
    {
     "data": {
      "text/plain": [
       "1"
      ]
     },
     "execution_count": 50,
     "metadata": {},
     "output_type": "execute_result"
    }
   ],
   "source": [
    "trainer = pl.Trainer(max_epochs=20, min_epochs=5 , logger=logger)\n",
    "trainer.fit(model, train_loader, test_loader)"
   ]
  },
  {
   "cell_type": "code",
   "execution_count": 51,
   "metadata": {},
   "outputs": [
    {
     "data": {
      "text/plain": [
       "Reusing TensorBoard on port 6006 (pid 32368), started 12:30:05 ago. (Use '!kill 32368' to kill it.)"
      ]
     },
     "metadata": {},
     "output_type": "display_data"
    },
    {
     "data": {
      "text/html": [
       "\n",
       "      <iframe id=\"tensorboard-frame-3fa735a96aaaabd6\" width=\"100%\" height=\"800\" frameborder=\"0\">\n",
       "      </iframe>\n",
       "      <script>\n",
       "        (function() {\n",
       "          const frame = document.getElementById(\"tensorboard-frame-3fa735a96aaaabd6\");\n",
       "          const url = new URL(\"/\", window.location);\n",
       "          const port = 6006;\n",
       "          if (port) {\n",
       "            url.port = port;\n",
       "          }\n",
       "          frame.src = url;\n",
       "        })();\n",
       "      </script>\n",
       "    "
      ],
      "text/plain": [
       "<IPython.core.display.HTML object>"
      ]
     },
     "metadata": {},
     "output_type": "display_data"
    }
   ],
   "source": [
    "%load_ext tensorboard\n",
    "%tensorboard --logdir NER/tb_logs"
   ]
  },
  {
   "cell_type": "code",
   "execution_count": 52,
   "metadata": {},
   "outputs": [],
   "source": [
    "from sklearn.metrics import confusion_matrix"
   ]
  },
  {
   "cell_type": "code",
   "execution_count": 53,
   "metadata": {},
   "outputs": [
    {
     "name": "stderr",
     "output_type": "stream",
     "text": [
      "<ipython-input-53-37cadd648b56>:15: RuntimeWarning: invalid value encountered in true_divide\n",
      "  f1 = 2 * (prec * rec /(prec + rec))\n"
     ]
    }
   ],
   "source": [
    "model.eval()\n",
    "conf_matrix = np.zeros((len(ds.tag_vocab)-1, len(ds.tag_vocab)-1))\n",
    "for  sentences, tags in test_loader:\n",
    "    tags = tags.flatten()\n",
    "    tag_mask = tags != 0\n",
    "    outputs = model(sentences)\n",
    "    predicted = outputs.argmax(2)\n",
    "    tags = tags[tag_mask]\n",
    "    predicted = predicted.flatten()[tag_mask]\n",
    "    conf_matrix += confusion_matrix(tags.numpy(), predicted.numpy(), labels=labels)\n",
    "tp = np.diagonal(conf_matrix)\n",
    "prec = tp / conf_matrix.sum(axis=0)\n",
    "rec = tp / conf_matrix.sum(axis=1)\n",
    "mask = np.logical_and(prec == 0, rec == 0)\n",
    "f1 = 2 * (prec * rec /(prec + rec))\n",
    "f1[mask] = 0"
   ]
  },
  {
   "cell_type": "code",
   "execution_count": 54,
   "metadata": {},
   "outputs": [
    {
     "data": {
      "text/html": [
       "<div>\n",
       "<style scoped>\n",
       "    .dataframe tbody tr th:only-of-type {\n",
       "        vertical-align: middle;\n",
       "    }\n",
       "\n",
       "    .dataframe tbody tr th {\n",
       "        vertical-align: top;\n",
       "    }\n",
       "\n",
       "    .dataframe thead th {\n",
       "        text-align: right;\n",
       "    }\n",
       "</style>\n",
       "<table border=\"1\" class=\"dataframe\">\n",
       "  <thead>\n",
       "    <tr style=\"text-align: right;\">\n",
       "      <th></th>\n",
       "      <th>recall</th>\n",
       "      <th>precision</th>\n",
       "      <th>f1</th>\n",
       "    </tr>\n",
       "    <tr>\n",
       "      <th>labels</th>\n",
       "      <th></th>\n",
       "      <th></th>\n",
       "      <th></th>\n",
       "    </tr>\n",
       "  </thead>\n",
       "  <tbody>\n",
       "    <tr>\n",
       "      <th>I-gpe</th>\n",
       "      <td>0.633333</td>\n",
       "      <td>0.678571</td>\n",
       "      <td>0.655172</td>\n",
       "    </tr>\n",
       "    <tr>\n",
       "      <th>I-org</th>\n",
       "      <td>0.638298</td>\n",
       "      <td>0.703498</td>\n",
       "      <td>0.669314</td>\n",
       "    </tr>\n",
       "    <tr>\n",
       "      <th>I-tim</th>\n",
       "      <td>0.724806</td>\n",
       "      <td>0.844244</td>\n",
       "      <td>0.779979</td>\n",
       "    </tr>\n",
       "    <tr>\n",
       "      <th>I-art</th>\n",
       "      <td>0.000000</td>\n",
       "      <td>0.000000</td>\n",
       "      <td>0.000000</td>\n",
       "    </tr>\n",
       "    <tr>\n",
       "      <th>I-eve</th>\n",
       "      <td>0.200000</td>\n",
       "      <td>0.230769</td>\n",
       "      <td>0.214286</td>\n",
       "    </tr>\n",
       "    <tr>\n",
       "      <th>B-gpe</th>\n",
       "      <td>0.931528</td>\n",
       "      <td>0.927581</td>\n",
       "      <td>0.929550</td>\n",
       "    </tr>\n",
       "    <tr>\n",
       "      <th>B-geo</th>\n",
       "      <td>0.844909</td>\n",
       "      <td>0.844498</td>\n",
       "      <td>0.844703</td>\n",
       "    </tr>\n",
       "    <tr>\n",
       "      <th>B-per</th>\n",
       "      <td>0.771459</td>\n",
       "      <td>0.793605</td>\n",
       "      <td>0.782375</td>\n",
       "    </tr>\n",
       "    <tr>\n",
       "      <th>I-per</th>\n",
       "      <td>0.832267</td>\n",
       "      <td>0.830791</td>\n",
       "      <td>0.831528</td>\n",
       "    </tr>\n",
       "    <tr>\n",
       "      <th>B-org</th>\n",
       "      <td>0.644107</td>\n",
       "      <td>0.694340</td>\n",
       "      <td>0.668281</td>\n",
       "    </tr>\n",
       "    <tr>\n",
       "      <th>O</th>\n",
       "      <td>0.989545</td>\n",
       "      <td>0.982422</td>\n",
       "      <td>0.985970</td>\n",
       "    </tr>\n",
       "    <tr>\n",
       "      <th>B-art</th>\n",
       "      <td>0.065574</td>\n",
       "      <td>0.250000</td>\n",
       "      <td>0.103896</td>\n",
       "    </tr>\n",
       "    <tr>\n",
       "      <th>B-eve</th>\n",
       "      <td>0.333333</td>\n",
       "      <td>0.387097</td>\n",
       "      <td>0.358209</td>\n",
       "    </tr>\n",
       "    <tr>\n",
       "      <th>I-geo</th>\n",
       "      <td>0.703526</td>\n",
       "      <td>0.785331</td>\n",
       "      <td>0.742181</td>\n",
       "    </tr>\n",
       "    <tr>\n",
       "      <th>B-nat</th>\n",
       "      <td>0.444444</td>\n",
       "      <td>0.457143</td>\n",
       "      <td>0.450704</td>\n",
       "    </tr>\n",
       "    <tr>\n",
       "      <th>I-nat</th>\n",
       "      <td>0.153846</td>\n",
       "      <td>0.400000</td>\n",
       "      <td>0.222222</td>\n",
       "    </tr>\n",
       "    <tr>\n",
       "      <th>B-tim</th>\n",
       "      <td>0.875479</td>\n",
       "      <td>0.914330</td>\n",
       "      <td>0.894483</td>\n",
       "    </tr>\n",
       "  </tbody>\n",
       "</table>\n",
       "</div>"
      ],
      "text/plain": [
       "          recall  precision        f1\n",
       "labels                               \n",
       "I-gpe   0.633333   0.678571  0.655172\n",
       "I-org   0.638298   0.703498  0.669314\n",
       "I-tim   0.724806   0.844244  0.779979\n",
       "I-art   0.000000   0.000000  0.000000\n",
       "I-eve   0.200000   0.230769  0.214286\n",
       "B-gpe   0.931528   0.927581  0.929550\n",
       "B-geo   0.844909   0.844498  0.844703\n",
       "B-per   0.771459   0.793605  0.782375\n",
       "I-per   0.832267   0.830791  0.831528\n",
       "B-org   0.644107   0.694340  0.668281\n",
       "O       0.989545   0.982422  0.985970\n",
       "B-art   0.065574   0.250000  0.103896\n",
       "B-eve   0.333333   0.387097  0.358209\n",
       "I-geo   0.703526   0.785331  0.742181\n",
       "B-nat   0.444444   0.457143  0.450704\n",
       "I-nat   0.153846   0.400000  0.222222\n",
       "B-tim   0.875479   0.914330  0.894483"
      ]
     },
     "execution_count": 54,
     "metadata": {},
     "output_type": "execute_result"
    }
   ],
   "source": [
    "labels = list(ds.tag_vocab.keys())[1:]\n",
    "report = pd.DataFrame.from_dict({'labels': labels, 'recall': rec, 'precision': prec, 'f1': f1})\n",
    "report.set_index('labels')"
   ]
  },
  {
   "cell_type": "code",
   "execution_count": 55,
   "metadata": {},
   "outputs": [
    {
     "data": {
      "text/plain": [
       "(0.5960502707103876, 0.5756738098769476, 0.630836385536828)"
      ]
     },
     "execution_count": 55,
     "metadata": {},
     "output_type": "execute_result"
    }
   ],
   "source": [
    "f1.mean(), rec.mean(), prec.mean()"
   ]
  },
  {
   "cell_type": "code",
   "execution_count": null,
   "metadata": {},
   "outputs": [],
   "source": []
  }
 ],
 "metadata": {
  "kernelspec": {
   "display_name": "Python 3",
   "language": "python",
   "name": "python3"
  },
  "language_info": {
   "codemirror_mode": {
    "name": "ipython",
    "version": 3
   },
   "file_extension": ".py",
   "mimetype": "text/x-python",
   "name": "python",
   "nbconvert_exporter": "python",
   "pygments_lexer": "ipython3",
   "version": "3.9.1"
  }
 },
 "nbformat": 4,
 "nbformat_minor": 4
}
