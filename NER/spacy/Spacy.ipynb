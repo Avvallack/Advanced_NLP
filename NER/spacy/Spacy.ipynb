{
 "cells": [
  {
   "cell_type": "code",
   "execution_count": 3,
   "id": "welcome-boundary",
   "metadata": {},
   "outputs": [],
   "source": [
    "import pandas as pd"
   ]
  },
  {
   "cell_type": "code",
   "execution_count": 4,
   "id": "dominant-decade",
   "metadata": {},
   "outputs": [],
   "source": [
    "df = pd.read_csv('https://dl.dropboxusercontent.com/s/tlijezgr8tnpeym/ner_dataset.csv?dl=0', \n",
    "                 header=0, \n",
    "                 encoding='latin')"
   ]
  },
  {
   "cell_type": "code",
   "execution_count": 5,
   "id": "criminal-triumph",
   "metadata": {},
   "outputs": [],
   "source": [
    "df['Sentence #'].fillna(method='ffill', inplace=True)"
   ]
  },
  {
   "cell_type": "code",
   "execution_count": 6,
   "id": "immune-christianity",
   "metadata": {},
   "outputs": [],
   "source": [
    "df.rename(columns={'Sentence #':'Sent'}, inplace=True)"
   ]
  },
  {
   "cell_type": "code",
   "execution_count": 7,
   "id": "prompt-cyprus",
   "metadata": {},
   "outputs": [],
   "source": [
    "import re\n",
    "\n",
    "def match(word):\n",
    "    if re.match('[\\W]+', word):\n",
    "        return 1\n",
    "    return 0\n",
    "\n",
    "df['flag'] = df['Word'].apply(match)"
   ]
  },
  {
   "cell_type": "code",
   "execution_count": 8,
   "id": "comprehensive-footwear",
   "metadata": {},
   "outputs": [],
   "source": [
    "qr1 = df.query('flag == 0').copy()"
   ]
  },
  {
   "cell_type": "code",
   "execution_count": 9,
   "id": "later-camcorder",
   "metadata": {},
   "outputs": [
    {
     "data": {
      "text/plain": [
       "(948295, 5)"
      ]
     },
     "execution_count": 9,
     "metadata": {},
     "output_type": "execute_result"
    }
   ],
   "source": [
    "qr1.shape"
   ]
  },
  {
   "cell_type": "code",
   "execution_count": 10,
   "id": "printable-benchmark",
   "metadata": {},
   "outputs": [],
   "source": [
    "qr1['Sent'] = qr1['Sent'].apply(lambda x: int(x[10:]))"
   ]
  },
  {
   "cell_type": "code",
   "execution_count": 11,
   "id": "chicken-xerox",
   "metadata": {},
   "outputs": [],
   "source": [
    "train = qr1.query('Sent <= 37000')\n",
    "\n",
    "test = qr1.query('Sent > 37000 and Sent < 43000')"
   ]
  },
  {
   "cell_type": "code",
   "execution_count": 12,
   "id": "matched-approach",
   "metadata": {},
   "outputs": [],
   "source": [
    "train.name = 'train'\n",
    "test.name = 'dev'"
   ]
  },
  {
   "cell_type": "markdown",
   "id": "infrared-anime",
   "metadata": {},
   "source": [
    "## Dump in iob format "
   ]
  },
  {
   "cell_type": "code",
   "execution_count": 11,
   "id": "supreme-interim",
   "metadata": {},
   "outputs": [],
   "source": [
    "for df in [train,test]:\n",
    "    \n",
    "    with open(f'{df.name}.tsv', 'w', encoding='utf-8') as f:\n",
    "        s_i = df.iloc[0]['Sent']\n",
    "        for i in range(df.shape[0]):\n",
    "            qr = df.iloc[i]\n",
    "            if qr['Sent'] != s_i:\n",
    "                s_i = qr['Sent']\n",
    "                f.write('\\n')\n",
    "            f.write(qr['Word'] + ' ' + qr['Tag'].upper() + '\\n')"
   ]
  },
  {
   "cell_type": "markdown",
   "id": "statistical-reality",
   "metadata": {},
   "source": [
    "# Convert to appropriate format"
   ]
  },
  {
   "cell_type": "code",
   "execution_count": 13,
   "id": "compound-station",
   "metadata": {},
   "outputs": [
    {
     "name": "stdout",
     "output_type": "stream",
     "text": [
      "[i] Auto-detected token-per-line NER format\n",
      "[i] Grouping every 1 sentences into a document.\n",
      "[!] To generate better training data, you may want to group sentences into\n",
      "documents with `-n 10`.\n",
      "[+] Generated output file (37000 documents): train.spacy\n",
      "[i] Auto-detected token-per-line NER format\n",
      "[i] Grouping every 1 sentences into a document.\n",
      "[!] To generate better training data, you may want to group sentences into\n",
      "documents with `-n 10`.\n",
      "[+] Generated output file (5998 documents): dev.spacy\n"
     ]
    }
   ],
   "source": [
    "!python -m spacy convert train.tsv ./ -t spacy -n 1 -c iob\n",
    "!python -m spacy convert dev.tsv ./ -t spacy -n 1 -c iob"
   ]
  },
  {
   "cell_type": "code",
   "execution_count": 14,
   "id": "italic-hacker",
   "metadata": {},
   "outputs": [
    {
     "name": "stdout",
     "output_type": "stream",
     "text": [
      "[+] Auto-filled config with all values\n",
      "[+] Saved config\n",
      "config.cfg\n",
      "You can now add your data and train your pipeline:\n",
      "python -m spacy train config.cfg --paths.train ./train.spacy --paths.dev ./dev.spacy\n"
     ]
    }
   ],
   "source": [
    "!python -m spacy init fill-config base_config.cfg config.cfg"
   ]
  },
  {
   "cell_type": "code",
   "execution_count": 15,
   "id": "sophisticated-static",
   "metadata": {},
   "outputs": [
    {
     "name": "stdout",
     "output_type": "stream",
     "text": [
      "^C\n"
     ]
    }
   ],
   "source": [
    "!python -m spacy train config.cfg --paths.train ./train.spacy --paths.dev ./dev.spacy -g 0 -o ./model\n"
   ]
  },
  {
   "cell_type": "markdown",
   "id": "accompanied-medium",
   "metadata": {},
   "source": [
    "<a href=\"https://ibb.co/MsPpXn9\"><img src=\"https://i.ibb.co/SPV0LNJ/Screenshot-2021-03-27-210544.png\" alt=\"Screenshot-2021-03-27-210544\" border=\"0\"></a>"
   ]
  },
  {
   "cell_type": "code",
   "execution_count": 13,
   "id": "appreciated-sheet",
   "metadata": {},
   "outputs": [],
   "source": [
    "qr2 = qr1.query(' Sent >= 43000')\n",
    "test_df = qr2.groupby('Sent').agg(lambda x: list(x))\n",
    "test_df['text'] = test_df['Word'].apply(lambda x: ' '.join(x))"
   ]
  },
  {
   "cell_type": "code",
   "execution_count": 1,
   "id": "worth-moment",
   "metadata": {},
   "outputs": [],
   "source": [
    "import spacy"
   ]
  },
  {
   "cell_type": "code",
   "execution_count": 2,
   "id": "matched-binding",
   "metadata": {},
   "outputs": [],
   "source": [
    "nlp = spacy.load('./model/model-best')"
   ]
  },
  {
   "cell_type": "code",
   "execution_count": 26,
   "id": "acoustic-evanescence",
   "metadata": {},
   "outputs": [
    {
     "data": {
      "text/plain": [
       "[('Mauritania', 'GEO'),\n",
       " ('French', 'GPE'),\n",
       " ('al', 'ORG'),\n",
       " ('-', 'ORG'),\n",
       " ('Qaida', 'ORG')]"
      ]
     },
     "execution_count": 26,
     "metadata": {},
     "output_type": "execute_result"
    }
   ],
   "source": [
    "doc = nlp(test_df['text'].iloc[0])\n",
    "[(ent.text, ent.label_) for ent in doc.ents]\n"
   ]
  },
  {
   "cell_type": "code",
   "execution_count": 22,
   "id": "demanding-membrane",
   "metadata": {},
   "outputs": [
    {
     "data": {
      "text/plain": [
       "'Authorities in Mauritania say suspects in the recent killing of four French tourists are members of an extremist group linked to al-Qaida'"
      ]
     },
     "execution_count": 22,
     "metadata": {},
     "output_type": "execute_result"
    }
   ],
   "source": [
    "test_df['text'].iloc[0]"
   ]
  },
  {
   "cell_type": "code",
   "execution_count": 24,
   "id": "happy-cruise",
   "metadata": {},
   "outputs": [
    {
     "data": {
      "text/plain": [
       "['O',\n",
       " 'O',\n",
       " 'B-geo',\n",
       " 'O',\n",
       " 'O',\n",
       " 'O',\n",
       " 'O',\n",
       " 'O',\n",
       " 'O',\n",
       " 'O',\n",
       " 'O',\n",
       " 'B-gpe',\n",
       " 'O',\n",
       " 'O',\n",
       " 'O',\n",
       " 'O',\n",
       " 'O',\n",
       " 'O',\n",
       " 'O',\n",
       " 'O',\n",
       " 'O',\n",
       " 'B-org']"
      ]
     },
     "execution_count": 24,
     "metadata": {},
     "output_type": "execute_result"
    }
   ],
   "source": [
    "test_df['Tag'].iloc[0]"
   ]
  },
  {
   "cell_type": "code",
   "execution_count": null,
   "id": "driven-agriculture",
   "metadata": {},
   "outputs": [],
   "source": []
  }
 ],
 "metadata": {
  "kernelspec": {
   "display_name": "Python 3",
   "language": "python",
   "name": "python3"
  },
  "language_info": {
   "codemirror_mode": {
    "name": "ipython",
    "version": 3
   },
   "file_extension": ".py",
   "mimetype": "text/x-python",
   "name": "python",
   "nbconvert_exporter": "python",
   "pygments_lexer": "ipython3",
   "version": "3.9.2"
  }
 },
 "nbformat": 4,
 "nbformat_minor": 5
}
