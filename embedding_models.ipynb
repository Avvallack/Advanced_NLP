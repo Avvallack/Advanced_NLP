{
 "cells": [
  {
   "cell_type": "code",
   "execution_count": 1,
   "metadata": {},
   "outputs": [],
   "source": [
    "from embedding.data_load import DATA_FRAME\n",
    "from embedding.data_preparation import build_vocab, finalize_dataframe, create_index_frame\n",
    "from embedding.triplet_loss_adagrad import initialize_embedding, ada_grad, choose_triplet, gradient, get_sum_vector"
   ]
  },
  {
   "cell_type": "code",
   "execution_count": 2,
   "metadata": {},
   "outputs": [],
   "source": [
    "vocab = build_vocab(DATA_FRAME['clean_tags'], DATA_FRAME['clean_title'])\n",
    "final_df = finalize_dataframe(vocab, DATA_FRAME)\n",
    "index_df = create_index_frame(vocab, final_df)"
   ]
  },
  {
   "cell_type": "code",
   "execution_count": 26,
   "metadata": {},
   "outputs": [],
   "source": [
    "initial_matrix = initialize_embedding(vocab, dimension=50)"
   ]
  },
  {
   "cell_type": "code",
   "execution_count": 27,
   "metadata": {},
   "outputs": [
    {
     "name": "stdout",
     "output_type": "stream",
     "text": [
      "[array([ 1.0286309 , -0.5122463 , -1.5473218 , -0.8027956 , -1.19948   ,\n",
      "       -0.43508357, -1.7372599 ,  1.4887999 ,  0.23899588,  0.3653881 ,\n",
      "       -0.40561482, -1.1648991 ,  0.5604729 ,  1.1595645 ,  0.33338115,\n",
      "        0.3757074 ,  1.0445895 ,  0.51251507,  1.1910843 , -1.0642545 ,\n",
      "        0.84233385, -0.21977663,  0.7745036 ,  1.7400291 ,  0.93797845,\n",
      "       -1.3083514 ,  0.743959  , -0.13079071, -0.62347305, -1.0611975 ,\n",
      "        0.93876827,  0.00928509,  0.37145483,  0.68447745,  1.151542  ,\n",
      "        0.04990361, -0.8397341 ,  0.6269162 , -0.8460021 ,  0.5996271 ,\n",
      "       -0.7170895 ,  0.18330689, -0.39904028, -1.1427821 ,  0.23659956,\n",
      "       -2.101094  , -0.94581497, -1.6901076 , -1.8033918 , -0.20057036],\n",
      "      dtype=float32), array([-0.2591907 , -0.04626995,  1.9342679 , -0.9523259 , -0.07357094,\n",
      "       -0.44647875, -0.31468242,  0.29801255,  0.01758949,  0.36043835,\n",
      "       -0.3189475 ,  1.0318011 , -0.7640917 , -0.41774625, -0.01795461,\n",
      "       -0.50782305,  0.978131  , -0.47933057, -0.61575204,  0.18804798,\n",
      "        0.00330848, -0.52976495, -0.01763454, -1.0001053 , -0.267736  ,\n",
      "       -0.00893418, -0.05127371,  0.77220106,  0.36788723,  1.4481841 ,\n",
      "        0.44512945,  0.32079464,  0.29403478,  0.57767403,  0.5820457 ,\n",
      "       -0.6384489 , -0.01536862,  0.8932457 ,  0.21484023, -0.2203451 ,\n",
      "        0.5439327 , -0.04370366,  0.5515665 , -0.01140105,  0.15211731,\n",
      "        0.00898412,  0.4059493 ,  0.49062124,  0.07384496,  0.34937954],\n",
      "      dtype=float32), array([ 0.2591907 ,  0.04626995, -1.9342679 ,  0.9523259 ,  0.07357094,\n",
      "        0.44647875,  0.31468242, -0.29801255, -0.01758949, -0.36043835,\n",
      "        0.3189475 , -1.0318011 ,  0.7640917 ,  0.41774625,  0.01795461,\n",
      "        0.50782305, -0.978131  ,  0.47933057,  0.61575204, -0.18804798,\n",
      "       -0.00330848,  0.52976495,  0.01763454,  1.0001053 ,  0.267736  ,\n",
      "        0.00893418,  0.05127371, -0.77220106, -0.36788723, -1.4481841 ,\n",
      "       -0.44512945, -0.32079464, -0.29403478, -0.57767403, -0.5820457 ,\n",
      "        0.6384489 ,  0.01536862, -0.8932457 , -0.21484023,  0.2203451 ,\n",
      "       -0.5439327 ,  0.04370366, -0.5515665 ,  0.01140105, -0.15211731,\n",
      "       -0.00898412, -0.4059493 , -0.49062124, -0.07384496, -0.34937954],\n",
      "      dtype=float32)]\n"
     ]
    }
   ],
   "source": [
    "gradient_vector = None\n",
    "i = 5\n",
    "while not gradient_vector:\n",
    "    triplet = choose_triplet(index_df, i)\n",
    "    indices_list = []\n",
    "    sum_vectors = []\n",
    "    for vector in triplet:\n",
    "        sum_vector, indices = get_sum_vector(vector, initial_matrix)\n",
    "        indices_list.append(indices)\n",
    "        sum_vectors.append(sum_vector)\n",
    "\n",
    "    loss, gradient_vector = gradient(*sum_vectors)\n",
    "    i += 1\n",
    "print(gradient_vector)"
   ]
  },
  {
   "cell_type": "code",
   "execution_count": 28,
   "metadata": {},
   "outputs": [
    {
     "name": "stdout",
     "output_type": "stream",
     "text": [
      "(50,) [4458]\n",
      "(50,) [9500, 9821]\n",
      "(50,) [3053]\n"
     ]
    }
   ],
   "source": [
    "for grad, idx in zip(gradient_vector, indices_list):\n",
    "    print(grad.shape, idx)"
   ]
  },
  {
   "cell_type": "code",
   "execution_count": 29,
   "metadata": {},
   "outputs": [
    {
     "data": {
      "text/plain": [
       "10"
      ]
     },
     "execution_count": 29,
     "metadata": {},
     "output_type": "execute_result"
    }
   ],
   "source": [
    "i"
   ]
  },
  {
   "cell_type": "code",
   "execution_count": 30,
   "metadata": {
    "scrolled": false
   },
   "outputs": [
    {
     "data": {
      "application/vnd.jupyter.widget-view+json": {
       "model_id": "123903286c0147eaa0a3820aef4e0b19",
       "version_major": 2,
       "version_minor": 0
      },
      "text/plain": [
       "HBox(children=(HTML(value=''), FloatProgress(value=0.0, max=1000.0), HTML(value='')))"
      ]
     },
     "metadata": {},
     "output_type": "display_data"
    },
    {
     "data": {
      "application/vnd.jupyter.widget-view+json": {
       "model_id": "7c7a4e8da3b04c4696b56ee7461c1716",
       "version_major": 2,
       "version_minor": 0
      },
      "text/plain": [
       "HBox(children=(HTML(value=''), FloatProgress(value=0.0, max=105082.0), HTML(value='')))"
      ]
     },
     "metadata": {},
     "output_type": "display_data"
    },
    {
     "name": "stderr",
     "output_type": "stream",
     "text": [
      "/Users/avvallack/PycharmProjects/LSA/embedding/triplet_loss_adagrad.py:95: RuntimeWarning: overflow encountered in square\n",
      "  gradient_matrix[idx] += np.square(grad)\n",
      "/Users/avvallack/PycharmProjects/LSA/embedding/triplet_loss_adagrad.py:15: RuntimeWarning: invalid value encountered in double_scalars\n",
      "  return max(0, (1 - title.dot(tags_true) + title.dot(tags_wrong)))\n"
     ]
    },
    {
     "name": "stdout",
     "output_type": "stream",
     "text": [
      "\n",
      "Current metric is: 0.001\n"
     ]
    },
    {
     "data": {
      "application/vnd.jupyter.widget-view+json": {
       "model_id": "2061e3703ae74590a688078930a8d447",
       "version_major": 2,
       "version_minor": 0
      },
      "text/plain": [
       "HBox(children=(HTML(value=''), FloatProgress(value=0.0, max=105082.0), HTML(value='')))"
      ]
     },
     "metadata": {},
     "output_type": "display_data"
    },
    {
     "name": "stdout",
     "output_type": "stream",
     "text": [
      "\n"
     ]
    },
    {
     "data": {
      "application/vnd.jupyter.widget-view+json": {
       "model_id": "4d777402055f4d47b0b14d9d88f4b8b7",
       "version_major": 2,
       "version_minor": 0
      },
      "text/plain": [
       "HBox(children=(HTML(value=''), FloatProgress(value=0.0, max=105082.0), HTML(value='')))"
      ]
     },
     "metadata": {},
     "output_type": "display_data"
    },
    {
     "name": "stdout",
     "output_type": "stream",
     "text": [
      "\n"
     ]
    },
    {
     "data": {
      "application/vnd.jupyter.widget-view+json": {
       "model_id": "88e804509aca4a5e899c6e91f74d7e4a",
       "version_major": 2,
       "version_minor": 0
      },
      "text/plain": [
       "HBox(children=(HTML(value=''), FloatProgress(value=0.0, max=105082.0), HTML(value='')))"
      ]
     },
     "metadata": {},
     "output_type": "display_data"
    },
    {
     "name": "stdout",
     "output_type": "stream",
     "text": [
      "\n"
     ]
    },
    {
     "data": {
      "application/vnd.jupyter.widget-view+json": {
       "model_id": "b4258df6b30f4c4cae699971c9ac64d3",
       "version_major": 2,
       "version_minor": 0
      },
      "text/plain": [
       "HBox(children=(HTML(value=''), FloatProgress(value=0.0, max=105082.0), HTML(value='')))"
      ]
     },
     "metadata": {},
     "output_type": "display_data"
    },
    {
     "name": "stdout",
     "output_type": "stream",
     "text": [
      "\n"
     ]
    },
    {
     "data": {
      "application/vnd.jupyter.widget-view+json": {
       "model_id": "46c8abde17814751a0de70079df94f5e",
       "version_major": 2,
       "version_minor": 0
      },
      "text/plain": [
       "HBox(children=(HTML(value=''), FloatProgress(value=0.0, max=105082.0), HTML(value='')))"
      ]
     },
     "metadata": {},
     "output_type": "display_data"
    },
    {
     "name": "stdout",
     "output_type": "stream",
     "text": [
      "\n"
     ]
    },
    {
     "data": {
      "application/vnd.jupyter.widget-view+json": {
       "model_id": "1710115c0ea14c588d3754b7f5d3886d",
       "version_major": 2,
       "version_minor": 0
      },
      "text/plain": [
       "HBox(children=(HTML(value=''), FloatProgress(value=0.0, max=105082.0), HTML(value='')))"
      ]
     },
     "metadata": {},
     "output_type": "display_data"
    },
    {
     "name": "stdout",
     "output_type": "stream",
     "text": [
      "\n"
     ]
    },
    {
     "data": {
      "application/vnd.jupyter.widget-view+json": {
       "model_id": "c5d4b82acf2e4d6796c456a86bb3e35a",
       "version_major": 2,
       "version_minor": 0
      },
      "text/plain": [
       "HBox(children=(HTML(value=''), FloatProgress(value=0.0, max=105082.0), HTML(value='')))"
      ]
     },
     "metadata": {},
     "output_type": "display_data"
    },
    {
     "name": "stdout",
     "output_type": "stream",
     "text": [
      "\n"
     ]
    },
    {
     "data": {
      "application/vnd.jupyter.widget-view+json": {
       "model_id": "5bf4e3ea47a743228fa40d1a492a2060",
       "version_major": 2,
       "version_minor": 0
      },
      "text/plain": [
       "HBox(children=(HTML(value=''), FloatProgress(value=0.0, max=105082.0), HTML(value='')))"
      ]
     },
     "metadata": {},
     "output_type": "display_data"
    },
    {
     "name": "stdout",
     "output_type": "stream",
     "text": [
      "\n"
     ]
    },
    {
     "data": {
      "application/vnd.jupyter.widget-view+json": {
       "model_id": "31cc419ac46d4cf791ae620607bd3a2a",
       "version_major": 2,
       "version_minor": 0
      },
      "text/plain": [
       "HBox(children=(HTML(value=''), FloatProgress(value=0.0, max=105082.0), HTML(value='')))"
      ]
     },
     "metadata": {},
     "output_type": "display_data"
    },
    {
     "name": "stdout",
     "output_type": "stream",
     "text": [
      "\n"
     ]
    },
    {
     "data": {
      "application/vnd.jupyter.widget-view+json": {
       "model_id": "48d73cc6c85d468982c06813d580aa6a",
       "version_major": 2,
       "version_minor": 0
      },
      "text/plain": [
       "HBox(children=(HTML(value=''), FloatProgress(value=0.0, max=105082.0), HTML(value='')))"
      ]
     },
     "metadata": {},
     "output_type": "display_data"
    },
    {
     "name": "stdout",
     "output_type": "stream",
     "text": [
      "\n",
      "Current metric is: 0.001\n",
      "\n"
     ]
    }
   ],
   "source": [
    "trained_embeddings = ada_grad(index_df, initial_matrix)"
   ]
  },
  {
   "cell_type": "code",
   "execution_count": null,
   "metadata": {},
   "outputs": [],
   "source": []
  }
 ],
 "metadata": {
  "kernelspec": {
   "display_name": "Python 3",
   "language": "python",
   "name": "python3"
  },
  "language_info": {
   "codemirror_mode": {
    "name": "ipython",
    "version": 3
   },
   "file_extension": ".py",
   "mimetype": "text/x-python",
   "name": "python",
   "nbconvert_exporter": "python",
   "pygments_lexer": "ipython3",
   "version": "3.8.2"
  }
 },
 "nbformat": 4,
 "nbformat_minor": 1
}
